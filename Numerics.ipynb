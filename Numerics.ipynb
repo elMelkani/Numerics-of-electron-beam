{
 "cells": [
  {
   "cell_type": "markdown",
   "metadata": {},
   "source": [
    "I am numerically solving equations (21-24) using Runge-Kutta-4. I have assumed that\n",
    "\n",
    "$$\\hbar = \\mu = e = 1$$\n",
    "\n",
    "which I hope is okay. \n",
    "\n",
    "First let's run the following functions:"
   ]
  },
  {
   "cell_type": "code",
   "execution_count": 1,
   "metadata": {},
   "outputs": [],
   "source": [
    "import numpy as np;\n",
    "\n",
    "import matplotlib.pyplot as plt;\n",
    "%matplotlib notebook\n",
    "#hbar = e = m = 1 so that Omega = B/2\n",
    "\n",
    "def getBLinear(intercept, slope):\n",
    "   B = np.zeros(2*steps)\n",
    "   Bdash = slope*np.ones(2*steps)\n",
    "   for i in range(2*steps):\n",
    "      B[i] = intercept + slope*z[i]\n",
    "   return [B, Bdash]\n",
    "\n",
    "def getBGlazer(B0, a):\n",
    "   B = np.zeros(2*steps)\n",
    "   Bdash = np.zeros(2*steps)\n",
    "   for i in range(2*steps):\n",
    "      denominator = 1 + ((z[i] - 5)/a)**2\n",
    "      B[i] = B0/denominator\n",
    "      Bdash[i] = -(B0/denominator**2)*(2*(z[i]-5)/(a**2))\n",
    "   return [B, Bdash]\n",
    "\n",
    "def getInit(B, a, c):\n",
    "   Tinit = abs(B)*(a + 0.5)\n",
    "   Rinit = 2*(a + c + 1)/abs(B)\n",
    "   Linit = 2*a + 1\n",
    "   Ginit = 0\n",
    "   return np.array([Tinit, Rinit, Linit, Ginit])\n",
    "\n",
    "def calculateF(i, Yvector):\n",
    "   #use index on YMatrix but 2*index on z\n",
    "   f = np.zeros([4,4])\n",
    "   f[0,2] = Bdash[i]/2\n",
    "   f[1,3] = 2/k\n",
    "   f[2,1] = Bdash[i]/2\n",
    "   f[2,3] = B[i]/k\n",
    "   f[3,0] = 2/k\n",
    "   f[3,2] = -B[i]/k\n",
    "   return np.dot(f, Yvector)\n",
    "\n",
    "def rungeKutta():\n",
    "   for i in range(steps-1):\n",
    "      k1 = 2*hBy2*calculateF(2*i, YMatrix[i])\n",
    "      k2 = 2*hBy2*calculateF(2*i + 1, YMatrix[i] + 0.5*k1)\n",
    "      k3 = 2*hBy2*calculateF(2*i + 1, YMatrix[i] + 0.5*k2)\n",
    "      k4 = 2*hBy2*calculateF(2*i + 2, YMatrix[i] + k3)\n",
    "      YMatrix[i+1] = YMatrix[i] + (k1 + 2*k2 + 2*k3 + k4)/6\n",
    "\n",
    "def plot(i, c, YMatrix):\n",
    "   axs[0].plot(zplot,YMatrix[:,0],'--r'+c, label='Kinetic energy'+str(i) );\n",
    "   axs[0].plot(zplot,YMatrix[:,1], '--b'+c, label='Rho squared'+str(i));\n",
    "   axs[0].plot(zplot,YMatrix[:,2], '--g' + c,label='Curly L'+str(i));\n",
    "   axs[0].plot(zplot,YMatrix[:,3], '--y'+c,label='G_perp'+str(i));\n",
    "   axs[0].legend()\n",
    "   Lz = YMatrix[:,2] - Bplot*YMatrix[:,1]/2\n",
    "   axs[1].plot(zplot,Lz, '-k'+c, label='Lz');\n",
    "   axs[1].legend()\n",
    "\n",
    "def plotB():\n",
    "   Bplot = np.zeros(steps)\n",
    "   for i in range(steps):\n",
    "      Bplot[i] = B[2*i]\n",
    "   axs[0].plot(zplot,Bplot, 'black', label='Magnetic field');\n",
    "   axs[0].set(xlabel='z', ylabel='Value')\n",
    "   axs[0].grid(True)\n",
    "   axs[0].legend()\n",
    "   axs[1].set(xlabel='z', ylabel='Value')\n",
    "   axs[1].grid(True)\n",
    "   return Bplot"
   ]
  },
  {
   "cell_type": "markdown",
   "metadata": {},
   "source": [
    "Now we are ready to test different initial conditions and magnetic fields. I hope from the examples it becomes clear how one can test different values."
   ]
  },
  {
   "cell_type": "code",
   "execution_count": 2,
   "metadata": {},
   "outputs": [
    {
     "data": {
      "image/png": "[encoded data removed]",
      "text/plain": [
       "<Figure size 432x288 with 2 Axes>"
      ]
     },
     "metadata": {
      "needs_background": "light"
     },
     "output_type": "display_data"
    }
   ],
   "source": [
    "#from IPython.display import set_matplotlib_formats\n",
    "#set_matplotlib_formats('png', 'pdf')\n",
    "\"\"\"\"Decrease this to increase numerical precision.\"\"\"\"\"\n",
    "hBy2 = 0.05; \n",
    "zInitial = 0 \n",
    "zFinal = 10\n",
    "\n",
    "#Ignore these three steps:\n",
    "#The number of steps for evaluation of \\vec y is half of that used for description of Omega\n",
    "steps = int( 0.5*(zFinal - zInitial)/hBy2)\n",
    "z = np.linspace(zInitial, zFinal, 2*steps)\n",
    "zplot = np.linspace(zInitial, zFinal, steps)\n",
    "\n",
    "#Define the magnetic field using getBLinear(intercept, slope) or getBGlazer(B0, a)\n",
    "[B, Bdash] = getBLinear(10, 20)\n",
    "\n",
    "\n",
    "#Plot the magnetic field, etc.\n",
    "fig, axs = plt.subplots(2)\n",
    "Bplot = plotB();\n",
    "\n",
    "YMatrix = np.zeros([ steps, 4])\n",
    "YMatrix[0] = getInit(B[0], a = 1, c = 3)\n",
    "k=20\n",
    "rungeKutta()\n",
    "plot(0, '+', YMatrix)\n",
    "\n",
    "T_perp0 = 0.3\n",
    "RhoSquared0 = 1\n",
    "L_z = 3\n",
    "CurlyL0 = 0.5*RhoSquared0*B[0] + L_z\n",
    "G_perp0 = 1\n",
    "\n",
    "YMatrix = np.zeros([ steps, 4])\n",
    "YMatrix[0] = np.array([T_perp0, RhoSquared0, CurlyL0, G_perp0])\n",
    "k=50\n",
    "rungeKutta()\n",
    "plot(1, 'o', YMatrix)\n",
    "plt.rcParams['figure.figsize'] = [10/2.54, 8/2.54]"
   ]
  },
  {
   "cell_type": "code",
   "execution_count": null,
   "metadata": {},
   "outputs": [],
   "source": []
  },
  {
   "cell_type": "code",
   "execution_count": null,
   "metadata": {},
   "outputs": [],
   "source": []
  }
 ],
 "metadata": {
  "kernelspec": {
   "display_name": "Python 3",
   "language": "python",
   "name": "python3"
  },
  "language_info": {
   "codemirror_mode": {
    "name": "ipython",
    "version": 3
   },
   "file_extension": ".py",
   "mimetype": "text/x-python",
   "name": "python",
   "nbconvert_exporter": "python",
   "pygments_lexer": "ipython3",
   "version": "3.7.4"
  }
 },
 "nbformat": 4,
 "nbformat_minor": 4
}
